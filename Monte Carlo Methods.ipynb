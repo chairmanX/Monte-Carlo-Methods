{
 "cells": [
  {
   "cell_type": "markdown",
   "metadata": {},
   "source": [
    "Some Python practice to implement some of the Monte Carlo methods lightly covered in my Econometrics course. Guidance from QuantEcon"
   ]
  },
  {
   "cell_type": "code",
   "execution_count": 1,
   "metadata": {},
   "outputs": [],
   "source": [
    "import numpy as np\n",
    "import matplotlib.pyplot as plt\n",
    "import pandas as pd\n",
    "%matplotlib inline\n",
    "import random"
   ]
  },
  {
   "cell_type": "markdown",
   "metadata": {},
   "source": [
    "Triangular Distribution"
   ]
  },
  {
   "cell_type": "code",
   "execution_count": 326,
   "metadata": {},
   "outputs": [],
   "source": [
    "# adjustable parameters\n",
    "left =1 \n",
    "mode = 2\n",
    "right = 5\n",
    "left_side = range(left, mode+1)\n",
    "right_side = range(mode, right+1)"
   ]
  },
  {
   "cell_type": "code",
   "execution_count": 327,
   "metadata": {},
   "outputs": [],
   "source": [
    "# make the lower\n",
    "lower = []\n",
    "for i in left_side:\n",
    "    lower.append((2*(i - left)) / ((right-left) * (mode - left)))"
   ]
  },
  {
   "cell_type": "code",
   "execution_count": 328,
   "metadata": {},
   "outputs": [],
   "source": [
    "#make the upper\n",
    "upper = []\n",
    "for i in right_side:\n",
    "    upper.append((2*(right-i))/((right-left) * (right-mode)))"
   ]
  },
  {
   "cell_type": "code",
   "execution_count": 329,
   "metadata": {},
   "outputs": [
    {
     "data": {
      "text/plain": [
       "[<matplotlib.lines.Line2D at 0x224c2cdc550>]"
      ]
     },
     "execution_count": 329,
     "metadata": {},
     "output_type": "execute_result"
    },
    {
     "data": {
      "image/png": "[encoded data removed]",
      "text/plain": [
       "<Figure size 432x288 with 1 Axes>"
      ]
     },
     "metadata": {},
     "output_type": "display_data"
    }
   ],
   "source": [
    "plt.plot(left_side, lower)\n",
    "plt.plot(right_side, upper)"
   ]
  },
  {
   "cell_type": "markdown",
   "metadata": {},
   "source": [
    "Random samples for triangular distribution using built-in RNG"
   ]
  },
  {
   "cell_type": "code",
   "execution_count": 330,
   "metadata": {},
   "outputs": [
    {
     "data": {
      "text/plain": [
       "(array([ 49., 129., 176., 177., 161., 115.,  84.,  56.,  37.,  16.]),\n",
       " array([1.02690159, 1.41748536, 1.80806914, 2.19865291, 2.58923668,\n",
       "        2.97982045, 3.37040422, 3.76098799, 4.15157176, 4.54215553,\n",
       "        4.9327393 ]),\n",
       " <a list of 10 Patch objects>)"
      ]
     },
     "execution_count": 330,
     "metadata": {},
     "output_type": "execute_result"
    },
    {
     "data": {
      "image/png": "[encoded data removed]",
      "text/plain": [
       "<Figure size 432x288 with 1 Axes>"
      ]
     },
     "metadata": {},
     "output_type": "display_data"
    }
   ],
   "source": [
    "plt.hist(np.random.triangular(left, mode, right, 1000))"
   ]
  },
  {
   "cell_type": "markdown",
   "metadata": {},
   "source": [
    "Rejection Sampling Method"
   ]
  },
  {
   "cell_type": "code",
   "execution_count": 331,
   "metadata": {},
   "outputs": [],
   "source": [
    "# horizontal interval:\n",
    "h = range(left, right+1)\n",
    "# upper bound of vertical interval: \n",
    "v = .6\n",
    "n = 1000 # number of random samples\n"
   ]
  },
  {
   "cell_type": "code",
   "execution_count": 332,
   "metadata": {},
   "outputs": [],
   "source": [
    "# function to find p(x) given x \n",
    "def px(x):\n",
    "    if(x<=mode):\n",
    "        return (2*(x-left))/((right-left)*(mode-left))\n",
    "    if(x>mode):\n",
    "        return (2*(right-x))/((right-left)*(right-mode))"
   ]
  },
  {
   "cell_type": "code",
   "execution_count": 333,
   "metadata": {},
   "outputs": [],
   "source": [
    "# create random points\n",
    "rand_x = []\n",
    "rand_g = []\n",
    "valids = []\n",
    "for i in range(n):\n",
    "    #rand_x.append(random.uniform(left, right))\n",
    "    #rand_g.append(random.uniform(0, v))\n",
    "    xrand = random.uniform(left, right)\n",
    "    g_rand = random.uniform(0,v)\n",
    "    if(g_rand<px(xrand)):\n",
    "        valids.append(xrand)\n",
    "    "
   ]
  },
  {
   "cell_type": "code",
   "execution_count": 334,
   "metadata": {},
   "outputs": [],
   "source": [
    "p_valids = [px(x_) for x_ in valids]"
   ]
  },
  {
   "cell_type": "code",
   "execution_count": 335,
   "metadata": {},
   "outputs": [
    {
     "data": {
      "text/plain": [
       "(array([10., 24., 38., 48., 46., 47., 37., 37., 31., 24., 32., 17., 21.,\n",
       "         8.,  5.]),\n",
       " array([1.01033112, 1.26592073, 1.52151033, 1.77709993, 2.03268954,\n",
       "        2.28827914, 2.54386875, 2.79945835, 3.05504795, 3.31063756,\n",
       "        3.56622716, 3.82181677, 4.07740637, 4.33299597, 4.58858558,\n",
       "        4.84417518]),\n",
       " <a list of 15 Patch objects>)"
      ]
     },
     "execution_count": 335,
     "metadata": {},
     "output_type": "execute_result"
    },
    {
     "data": {
      "image/png": "[encoded data removed]",
      "text/plain": [
       "<Figure size 432x288 with 1 Axes>"
      ]
     },
     "metadata": {},
     "output_type": "display_data"
    }
   ],
   "source": [
    "plt.hist(valids, bins=15)"
   ]
  },
  {
   "cell_type": "markdown",
   "metadata": {},
   "source": [
    "Metropolis-Hastings algorithm \n",
    "https://en.wikipedia.org/wiki/Metropolis%E2%80%93Hastings_algorithm"
   ]
  },
  {
   "cell_type": "code",
   "execution_count": 2,
   "metadata": {},
   "outputs": [],
   "source": [
    "# initialization\n",
    "x0 = 1.2\n",
    "sigma = 0.5\n",
    "thin = 50 # variable to set how many xt values get tossed out"
   ]
  },
  {
   "cell_type": "code",
   "execution_count": 337,
   "metadata": {},
   "outputs": [],
   "source": [
    "def my_metro(N, x0):\n",
    "    xt_values = []\n",
    "    burn = 100\n",
    "    #thin = 50 # 1 out of every thin (e.g. 1 out of every 50)\n",
    "    xt = x0\n",
    "    for i in range(N+burn):\n",
    "        xp = sigma*np.random.randn() + xt\n",
    "        A = px(xp)/px(xt) # acceptance ratio\n",
    "        U = np.random.rand(1)\n",
    "        if(U[0]<=A): #accept condition. otherwise leave xt as is \n",
    "            xt = xp\n",
    "        if(i > 99): # do not include first 100 iterations\n",
    "            xt_values.append(xt)\n",
    "    \n",
    "    #for x in xt_values:\n",
    "        #if xt_values.index(x) % thin != 0: \n",
    "            #xt_values.remove(x)\n",
    "    \n",
    "    \n",
    "    return xt_values\n",
    "    "
   ]
  },
  {
   "cell_type": "code",
   "execution_count": 317,
   "metadata": {},
   "outputs": [
    {
     "data": {
      "text/plain": [
       "(array([9., 3., 2., 4., 2.]),\n",
       " array([1.11322595, 1.80235899, 2.49149203, 3.18062507, 3.86975811,\n",
       "        4.55889115]),\n",
       " <a list of 5 Patch objects>)"
      ]
     },
     "execution_count": 317,
     "metadata": {},
     "output_type": "execute_result"
    },
    {
     "data": {
      "image/png": "[encoded data removed]",
      "text/plain": [
       "<Figure size 432x288 with 1 Axes>"
      ]
     },
     "metadata": {},
     "output_type": "display_data"
    }
   ],
   "source": [
    "plt.hist(my_metro(1000,x0)[::thin], bins=5)"
   ]
  },
  {
   "cell_type": "code",
   "execution_count": 311,
   "metadata": {},
   "outputs": [
    {
     "data": {
      "text/plain": [
       "[<matplotlib.lines.Line2D at 0x224c19faa58>]"
      ]
     },
     "execution_count": 311,
     "metadata": {},
     "output_type": "execute_result"
    },
    {
     "data": {
      "image/png": "[encoded data removed]",
      "text/plain": [
       "<Figure size 432x288 with 1 Axes>"
      ]
     },
     "metadata": {},
     "output_type": "display_data"
    }
   ],
   "source": [
    "plt.plot(my_metro(1000,x0)[::50])"
   ]
  },
  {
   "cell_type": "code",
   "execution_count": 312,
   "metadata": {},
   "outputs": [
    {
     "data": {
      "text/plain": [
       "(array([ 38., 126., 193., 201., 157., 127.,  82.,  50.,  18.,   8.]),\n",
       " array([1.07136845, 1.45627124, 1.84117404, 2.22607683, 2.61097963,\n",
       "        2.99588242, 3.38078522, 3.76568801, 4.1505908 , 4.5354936 ,\n",
       "        4.92039639]),\n",
       " <a list of 10 Patch objects>)"
      ]
     },
     "execution_count": 312,
     "metadata": {},
     "output_type": "execute_result"
    },
    {
     "data": {
      "image/png": "[encoded data removed]",
      "text/plain": [
       "<Figure size 432x288 with 1 Axes>"
      ]
     },
     "metadata": {},
     "output_type": "display_data"
    }
   ],
   "source": [
    "#without thinning \n",
    "plt.hist(my_metro(1000,x0))"
   ]
  },
  {
   "cell_type": "code",
   "execution_count": null,
   "metadata": {},
   "outputs": [],
   "source": []
  }
 ],
 "metadata": {
  "kernelspec": {
   "display_name": "Python 3",
   "language": "python",
   "name": "python3"
  },
  "language_info": {
   "codemirror_mode": {
    "name": "ipython",
    "version": 3
   },
   "file_extension": ".py",
   "mimetype": "text/x-python",
   "name": "python",
   "nbconvert_exporter": "python",
   "pygments_lexer": "ipython3",
   "version": "3.7.3"
  }
 },
 "nbformat": 4,
 "nbformat_minor": 2
}
